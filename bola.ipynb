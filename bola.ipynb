{
 "cells": [
  {
   "cell_type": "code",
   "execution_count": 1,
   "metadata": {},
   "outputs": [],
   "source": [
    "import pandas as pd \n",
    "import numpy as np \n",
    "import matplotlib.pyplot as plt\n",
    "from sklearn.model_selection import train_test_split"
   ]
  },
  {
   "cell_type": "markdown",
   "metadata": {},
   "source": [
    "### import all the machine learning packages"
   ]
  },
  {
   "cell_type": "code",
   "execution_count": 2,
   "metadata": {},
   "outputs": [],
   "source": [
    "from sklearn.linear_model import LogisticRegression\n",
    "from sklearn.svm import SVC\n",
    "from sklearn import tree\n",
    "from sklearn.ensemble import RandomForestClassifier\n",
    "from sklearn.neighbors import KNeighborsClassifier"
   ]
  },
  {
   "cell_type": "code",
   "execution_count": 3,
   "metadata": {},
   "outputs": [],
   "source": [
    "df = pd.read_csv('data.csv')"
   ]
  },
  {
   "cell_type": "code",
   "execution_count": 4,
   "metadata": {},
   "outputs": [],
   "source": [
    "rekrut = []\n",
    "for x in range(len(df.values)):                # either he's recommended or not recommended\n",
    "    if df['Age'][x] <= 25 and df['Overall'][x] >= 80 and df['Potential'][x] >= 80:\n",
    "        rekrut.append('recommended')\n",
    "    else:\n",
    "        rekrut.append('not Recommended')\n",
    "df['Recruit'] = rekrut"
   ]
  },
  {
   "cell_type": "code",
   "execution_count": 5,
   "metadata": {},
   "outputs": [],
   "source": [
    "train = df[['Age','Overall','Potential','Recruit']]\n",
    "dfTrain = pd.DataFrame(train)\n",
    "\n",
    "xtr,xts,ytr,yts = train_test_split(\n",
    "    df[['Age','Overall','Potential']],\n",
    "    df['Recruit'],\n",
    "    test_size = .1\n",
    ")\n",
    "\n",
    "def n_values():\n",
    "    n = round((len(xtr) + len(df[['Age','Overall','Potential']])) ** .5)\n",
    "    if (n % 2 == 0):\n",
    "        return n +1\n",
    "    else:\n",
    "        return n"
   ]
  },
  {
   "cell_type": "code",
   "execution_count": 6,
   "metadata": {},
   "outputs": [],
   "source": [
    "modelLog = LogisticRegression(solver='lbfgs')\n",
    "modelSVC = SVC(gamma='auto', probability=True)\n",
    "modelTR = tree.DecisionTreeClassifier()\n",
    "modelRF = RandomForestClassifier(n_estimators=100)\n",
    "modelKN = KNeighborsClassifier(n_neighbors=n_values())"
   ]
  },
  {
   "cell_type": "markdown",
   "metadata": {},
   "source": [
    "## k-fold cross validation"
   ]
  },
  {
   "cell_type": "code",
   "execution_count": 16,
   "metadata": {},
   "outputs": [
    {
     "name": "stdout",
     "output_type": "stream",
     "text": [
      "0.9931649260508321\n"
     ]
    }
   ],
   "source": [
    "from sklearn.model_selection import cross_val_score\n",
    "print(cross_val_score(\n",
    "    LogisticRegression(solver='lbfgs'),\n",
    "    xtr,\n",
    "    ytr,\n",
    "    cv = 5\n",
    ").mean())"
   ]
  },
  {
   "cell_type": "code",
   "execution_count": 8,
   "metadata": {},
   "outputs": [
    {
     "name": "stdout",
     "output_type": "stream",
     "text": [
      "0.999633736882059\n"
     ]
    }
   ],
   "source": [
    "print(np.mean(cross_val_score(\n",
    "    SVC(gamma='auto'), xtr,ytr,\n",
    "    cv = 5\n",
    ")))"
   ]
  },
  {
   "cell_type": "code",
   "execution_count": 9,
   "metadata": {},
   "outputs": [
    {
     "name": "stdout",
     "output_type": "stream",
     "text": [
      "1.0\n"
     ]
    }
   ],
   "source": [
    "print(cross_val_score(\n",
    "    tree.DecisionTreeClassifier(), \n",
    "    xtr, \n",
    "    ytr,\n",
    "    cv = 5\n",
    ").mean())"
   ]
  },
  {
   "cell_type": "code",
   "execution_count": 10,
   "metadata": {},
   "outputs": [
    {
     "name": "stdout",
     "output_type": "stream",
     "text": [
      "0.9960331242210436\n"
     ]
    }
   ],
   "source": [
    "print(cross_val_score(\n",
    "    KNeighborsClassifier(n_neighbors=n_values()), \n",
    "    xtr, \n",
    "    ytr,\n",
    "    cv = 5\n",
    ")\n",
    "    .mean())"
   ]
  },
  {
   "cell_type": "code",
   "execution_count": 11,
   "metadata": {},
   "outputs": [
    {
     "name": "stdout",
     "output_type": "stream",
     "text": [
      "1.0\n"
     ]
    }
   ],
   "source": [
    "print(cross_val_score(\n",
    "    RandomForestClassifier(n_estimators=100),\n",
    "    xtr,\n",
    "    ytr,\n",
    "    cv = 5\n",
    ").mean())"
   ]
  },
  {
   "cell_type": "code",
   "execution_count": 12,
   "metadata": {},
   "outputs": [],
   "source": [
    "data = {'nama': ['Andik Vermansyah','Awan Setho Raharjo','Bambang Pamungkas','Cristian Gonzales','Egy Maulana Vikri','Evan Dimas','Febri Hariyadi',\n",
    "                'Hansamu Yama Pranata','Septian David Maulana','Stefano Lilipaly'],\n",
    "        'club': ['Madura United FC', 'Bhayangkara FC', 'Persija Jakarta', 'PSS Sleman', 'Lechia Gdańsk', 'Barito Putera', 'Persib Bandung',\n",
    "                'Persebaya Surabaya', 'PSIS Semarang', 'Bali United'],\n",
    "        'age': [27, 22, 38, 43, 18, 24, 23, 24, 22, 29],\n",
    "        'overall':[87, 75, 85, 90, 88, 85, 77, 82, 83, 88],\n",
    "        'potential': [90,83, 75, 85, 90, 87, 80, 85, 80, 88]\n",
    "}"
   ]
  },
  {
   "cell_type": "code",
   "execution_count": 13,
   "metadata": {},
   "outputs": [
    {
     "data": {
      "text/html": [
       "<div>\n",
       "<style scoped>\n",
       "    .dataframe tbody tr th:only-of-type {\n",
       "        vertical-align: middle;\n",
       "    }\n",
       "\n",
       "    .dataframe tbody tr th {\n",
       "        vertical-align: top;\n",
       "    }\n",
       "\n",
       "    .dataframe thead th {\n",
       "        text-align: right;\n",
       "    }\n",
       "</style>\n",
       "<table border=\"1\" class=\"dataframe\">\n",
       "  <thead>\n",
       "    <tr style=\"text-align: right;\">\n",
       "      <th></th>\n",
       "      <th>nama</th>\n",
       "      <th>club</th>\n",
       "      <th>age</th>\n",
       "      <th>overall</th>\n",
       "      <th>potential</th>\n",
       "    </tr>\n",
       "  </thead>\n",
       "  <tbody>\n",
       "    <tr>\n",
       "      <th>0</th>\n",
       "      <td>Andik Vermansyah</td>\n",
       "      <td>Madura United FC</td>\n",
       "      <td>27</td>\n",
       "      <td>87</td>\n",
       "      <td>90</td>\n",
       "    </tr>\n",
       "    <tr>\n",
       "      <th>1</th>\n",
       "      <td>Awan Setho Raharjo</td>\n",
       "      <td>Bhayangkara FC</td>\n",
       "      <td>22</td>\n",
       "      <td>75</td>\n",
       "      <td>83</td>\n",
       "    </tr>\n",
       "    <tr>\n",
       "      <th>2</th>\n",
       "      <td>Bambang Pamungkas</td>\n",
       "      <td>Persija Jakarta</td>\n",
       "      <td>38</td>\n",
       "      <td>85</td>\n",
       "      <td>75</td>\n",
       "    </tr>\n",
       "    <tr>\n",
       "      <th>3</th>\n",
       "      <td>Cristian Gonzales</td>\n",
       "      <td>PSS Sleman</td>\n",
       "      <td>43</td>\n",
       "      <td>90</td>\n",
       "      <td>85</td>\n",
       "    </tr>\n",
       "    <tr>\n",
       "      <th>4</th>\n",
       "      <td>Egy Maulana Vikri</td>\n",
       "      <td>Lechia Gdańsk</td>\n",
       "      <td>18</td>\n",
       "      <td>88</td>\n",
       "      <td>90</td>\n",
       "    </tr>\n",
       "    <tr>\n",
       "      <th>5</th>\n",
       "      <td>Evan Dimas</td>\n",
       "      <td>Barito Putera</td>\n",
       "      <td>24</td>\n",
       "      <td>85</td>\n",
       "      <td>87</td>\n",
       "    </tr>\n",
       "    <tr>\n",
       "      <th>6</th>\n",
       "      <td>Febri Hariyadi</td>\n",
       "      <td>Persib Bandung</td>\n",
       "      <td>23</td>\n",
       "      <td>77</td>\n",
       "      <td>80</td>\n",
       "    </tr>\n",
       "    <tr>\n",
       "      <th>7</th>\n",
       "      <td>Hansamu Yama Pranata</td>\n",
       "      <td>Persebaya Surabaya</td>\n",
       "      <td>24</td>\n",
       "      <td>82</td>\n",
       "      <td>85</td>\n",
       "    </tr>\n",
       "    <tr>\n",
       "      <th>8</th>\n",
       "      <td>Septian David Maulana</td>\n",
       "      <td>PSIS Semarang</td>\n",
       "      <td>22</td>\n",
       "      <td>83</td>\n",
       "      <td>80</td>\n",
       "    </tr>\n",
       "    <tr>\n",
       "      <th>9</th>\n",
       "      <td>Stefano Lilipaly</td>\n",
       "      <td>Bali United</td>\n",
       "      <td>29</td>\n",
       "      <td>88</td>\n",
       "      <td>88</td>\n",
       "    </tr>\n",
       "  </tbody>\n",
       "</table>\n",
       "</div>"
      ],
      "text/plain": [
       "                    nama                club  age  overall  potential\n",
       "0       Andik Vermansyah    Madura United FC   27       87         90\n",
       "1     Awan Setho Raharjo      Bhayangkara FC   22       75         83\n",
       "2      Bambang Pamungkas     Persija Jakarta   38       85         75\n",
       "3      Cristian Gonzales          PSS Sleman   43       90         85\n",
       "4      Egy Maulana Vikri       Lechia Gdańsk   18       88         90\n",
       "5             Evan Dimas       Barito Putera   24       85         87\n",
       "6         Febri Hariyadi      Persib Bandung   23       77         80\n",
       "7   Hansamu Yama Pranata  Persebaya Surabaya   24       82         85\n",
       "8  Septian David Maulana       PSIS Semarang   22       83         80\n",
       "9       Stefano Lilipaly         Bali United   29       88         88"
      ]
     },
     "execution_count": 13,
     "metadata": {},
     "output_type": "execute_result"
    }
   ],
   "source": [
    "df2 = pd.DataFrame(data)\n",
    "df2"
   ]
  },
  {
   "cell_type": "markdown",
   "metadata": {},
   "source": [
    "### use RandomForestClassifier"
   ]
  },
  {
   "cell_type": "code",
   "execution_count": 18,
   "metadata": {},
   "outputs": [
    {
     "data": {
      "text/plain": [
       "RandomForestClassifier(bootstrap=True, class_weight=None, criterion='gini',\n",
       "            max_depth=None, max_features='auto', max_leaf_nodes=None,\n",
       "            min_impurity_decrease=0.0, min_impurity_split=None,\n",
       "            min_samples_leaf=1, min_samples_split=2,\n",
       "            min_weight_fraction_leaf=0.0, n_estimators=100, n_jobs=None,\n",
       "            oob_score=False, random_state=None, verbose=0,\n",
       "            warm_start=False)"
      ]
     },
     "execution_count": 18,
     "metadata": {},
     "output_type": "execute_result"
    }
   ],
   "source": [
    "model = RandomForestClassifier(n_estimators=100)\n",
    "model.fit(df[['Age','Overall','Potential']],df['Recruit'])"
   ]
  },
  {
   "cell_type": "code",
   "execution_count": 19,
   "metadata": {},
   "outputs": [
    {
     "data": {
      "text/html": [
       "<div>\n",
       "<style scoped>\n",
       "    .dataframe tbody tr th:only-of-type {\n",
       "        vertical-align: middle;\n",
       "    }\n",
       "\n",
       "    .dataframe tbody tr th {\n",
       "        vertical-align: top;\n",
       "    }\n",
       "\n",
       "    .dataframe thead th {\n",
       "        text-align: right;\n",
       "    }\n",
       "</style>\n",
       "<table border=\"1\" class=\"dataframe\">\n",
       "  <thead>\n",
       "    <tr style=\"text-align: right;\">\n",
       "      <th></th>\n",
       "      <th>nama</th>\n",
       "      <th>club</th>\n",
       "      <th>age</th>\n",
       "      <th>overall</th>\n",
       "      <th>potential</th>\n",
       "      <th>predict</th>\n",
       "    </tr>\n",
       "  </thead>\n",
       "  <tbody>\n",
       "    <tr>\n",
       "      <th>0</th>\n",
       "      <td>Andik Vermansyah</td>\n",
       "      <td>Madura United FC</td>\n",
       "      <td>27</td>\n",
       "      <td>87</td>\n",
       "      <td>90</td>\n",
       "      <td>not Recommended</td>\n",
       "    </tr>\n",
       "    <tr>\n",
       "      <th>1</th>\n",
       "      <td>Awan Setho Raharjo</td>\n",
       "      <td>Bhayangkara FC</td>\n",
       "      <td>22</td>\n",
       "      <td>75</td>\n",
       "      <td>83</td>\n",
       "      <td>not Recommended</td>\n",
       "    </tr>\n",
       "    <tr>\n",
       "      <th>2</th>\n",
       "      <td>Bambang Pamungkas</td>\n",
       "      <td>Persija Jakarta</td>\n",
       "      <td>38</td>\n",
       "      <td>85</td>\n",
       "      <td>75</td>\n",
       "      <td>not Recommended</td>\n",
       "    </tr>\n",
       "    <tr>\n",
       "      <th>3</th>\n",
       "      <td>Cristian Gonzales</td>\n",
       "      <td>PSS Sleman</td>\n",
       "      <td>43</td>\n",
       "      <td>90</td>\n",
       "      <td>85</td>\n",
       "      <td>not Recommended</td>\n",
       "    </tr>\n",
       "    <tr>\n",
       "      <th>4</th>\n",
       "      <td>Egy Maulana Vikri</td>\n",
       "      <td>Lechia Gdańsk</td>\n",
       "      <td>18</td>\n",
       "      <td>88</td>\n",
       "      <td>90</td>\n",
       "      <td>recommended</td>\n",
       "    </tr>\n",
       "    <tr>\n",
       "      <th>5</th>\n",
       "      <td>Evan Dimas</td>\n",
       "      <td>Barito Putera</td>\n",
       "      <td>24</td>\n",
       "      <td>85</td>\n",
       "      <td>87</td>\n",
       "      <td>recommended</td>\n",
       "    </tr>\n",
       "    <tr>\n",
       "      <th>6</th>\n",
       "      <td>Febri Hariyadi</td>\n",
       "      <td>Persib Bandung</td>\n",
       "      <td>23</td>\n",
       "      <td>77</td>\n",
       "      <td>80</td>\n",
       "      <td>not Recommended</td>\n",
       "    </tr>\n",
       "    <tr>\n",
       "      <th>7</th>\n",
       "      <td>Hansamu Yama Pranata</td>\n",
       "      <td>Persebaya Surabaya</td>\n",
       "      <td>24</td>\n",
       "      <td>82</td>\n",
       "      <td>85</td>\n",
       "      <td>recommended</td>\n",
       "    </tr>\n",
       "    <tr>\n",
       "      <th>8</th>\n",
       "      <td>Septian David Maulana</td>\n",
       "      <td>PSIS Semarang</td>\n",
       "      <td>22</td>\n",
       "      <td>83</td>\n",
       "      <td>80</td>\n",
       "      <td>recommended</td>\n",
       "    </tr>\n",
       "    <tr>\n",
       "      <th>9</th>\n",
       "      <td>Stefano Lilipaly</td>\n",
       "      <td>Bali United</td>\n",
       "      <td>29</td>\n",
       "      <td>88</td>\n",
       "      <td>88</td>\n",
       "      <td>not Recommended</td>\n",
       "    </tr>\n",
       "  </tbody>\n",
       "</table>\n",
       "</div>"
      ],
      "text/plain": [
       "                    nama                club  age  overall  potential  \\\n",
       "0       Andik Vermansyah    Madura United FC   27       87         90   \n",
       "1     Awan Setho Raharjo      Bhayangkara FC   22       75         83   \n",
       "2      Bambang Pamungkas     Persija Jakarta   38       85         75   \n",
       "3      Cristian Gonzales          PSS Sleman   43       90         85   \n",
       "4      Egy Maulana Vikri       Lechia Gdańsk   18       88         90   \n",
       "5             Evan Dimas       Barito Putera   24       85         87   \n",
       "6         Febri Hariyadi      Persib Bandung   23       77         80   \n",
       "7   Hansamu Yama Pranata  Persebaya Surabaya   24       82         85   \n",
       "8  Septian David Maulana       PSIS Semarang   22       83         80   \n",
       "9       Stefano Lilipaly         Bali United   29       88         88   \n",
       "\n",
       "           predict  \n",
       "0  not Recommended  \n",
       "1  not Recommended  \n",
       "2  not Recommended  \n",
       "3  not Recommended  \n",
       "4      recommended  \n",
       "5      recommended  \n",
       "6  not Recommended  \n",
       "7      recommended  \n",
       "8      recommended  \n",
       "9  not Recommended  "
      ]
     },
     "execution_count": 19,
     "metadata": {},
     "output_type": "execute_result"
    }
   ],
   "source": [
    "df2['predict']=model.predict(df2[['age','overall', 'potential']])\n",
    "df2"
   ]
  },
  {
   "cell_type": "code",
   "execution_count": null,
   "metadata": {},
   "outputs": [],
   "source": []
  }
 ],
 "metadata": {
  "kernelspec": {
   "display_name": "Python 3",
   "language": "python",
   "name": "python3"
  },
  "language_info": {
   "codemirror_mode": {
    "name": "ipython",
    "version": 3
   },
   "file_extension": ".py",
   "mimetype": "text/x-python",
   "name": "python",
   "nbconvert_exporter": "python",
   "pygments_lexer": "ipython3",
   "version": "3.7.3"
  }
 },
 "nbformat": 4,
 "nbformat_minor": 4
}
